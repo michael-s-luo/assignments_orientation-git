{
  "cells": [
    {
      "cell_type": "markdown",
      "metadata": {
        "id": "AZSKCtz03n-Y"
      },
      "source": [
        "## Autograded Notebook (Canvas & CodeGrade)\n",
        "\n",
        "This notebook will be automatically graded. It is designed to test your answers and award points for the correct answers. Following the instructions for each Task carefully.\n",
        "\n",
        "### Instructions\n",
        "\n",
        "* **Download this notebook** as you would any other ipynb file\n",
        "* **Upload** to Google Colab or work locally (if you have that set-up)\n",
        "* **Delete `raise NotImplementedError()`**\n",
        "* Write your code in the `# YOUR CODE HERE` space\n",
        "* **Execute** the Test cells that contain `assert` statements - these help you check your work (others contain hidden tests that will be checked when you submit through Canvas)\n",
        "* **Save** your notebook when you are finished\n",
        "* **Download** as a `ipynb` file (if working in Colab)\n",
        "* **Upload** your complete notebook to Canvas (there will be additional instructions in Slack and/or Canvas)"
      ]
    },
    {
      "cell_type": "markdown",
      "metadata": {
        "id": "838Dmw1kM2LK"
      },
      "source": [
        "# Unit 1 Sprint 2 Module 1\n",
        "\n",
        "## Hypothesis Testing - One and two-sample t-Tests\n",
        "\n",
        "### Objectives\n",
        "\n",
        "* Explain the purpose of a t-test and identify applications\n",
        "* Use a t-test for independence to test for a statistically significant association between two categorical variables\n",
        "* Use a t-test p-value to draw the correct conclusion about the null and alternative hypothesis\n",
        "\n",
        "#### Total notebook points: 13"
      ]
    },
    {
      "cell_type": "markdown",
      "metadata": {
        "id": "XvoOHjnMR42h"
      },
      "source": [
        "### Introduction\n",
        "\n",
        "Mosquito nets have traditionally been an important tool to prevent mosquito bites in parts of the world where malaria is endemic. However, it may not be practical for an army that is on the move to set up and carry mosquito nets each night and day. Impregnating soldiers’ uniforms with insect repellent solves the mobility problem but also has drawbacks. First, the insect repellent quickly becomes ineffective with repeated washing and ironing and must be frequently reapplied. Second, in hot and humid climates the insect repellent can be absorbed through the skin, and the long-term effects of this exposure are unknown. One compromise is to have soldiers apply patches treated with insect repellent to their clothing. These patches would last longer because they would not be washed or ironed and would not expose the entire body to the insect repellent.\n",
        "\n",
        "### Dataset Description\n",
        "\n",
        "The `Mosquito.xlsx` dataset contains data recorded in an experiment conducted on male soldiers in the Indian Army who were stationed in the Tezpur/Solmara garrison in Northeast India. Thirty soldiers were randomly selected to receive one of three types of mosquito single repellent patch. After giving informed consent, the study participants affixed the patches at predetermined points on their uniforms and research assistants (who were blinded to the type of repellent used) counted the number of times a mosquito landed on each individual in an hour. \n",
        "\n",
        "Medical officers with the Indian Army have recorded data on mosquito bites and related illness for many years and can say with authority that the mean number of mosquito touches for soldiers not wearing any mosquito repellent is 8.2 per hour.**We wish to determine if wearing a single repellent patch changes the mean number of mosquito touches for soldiers compared to not wearing any mosquito repellent.**\n",
        "\n",
        "*Adapted from: A. Bhatnagar and V.K. Mehta (2007). \"Efficacy of Deltamethrin and Cyfluthrin Impregnated Cloth Over Uniform Against Mosquito Bites,\" Medical Journal Armed Forces India, Vol. 63, pp. 120-122.*"
      ]
    },
    {
      "cell_type": "markdown",
      "metadata": {
        "id": "GDZhZik3FQmx"
      },
      "source": [
        "**Task 1** - Load the data\n",
        "\n",
        "Let's load the data! The URL has been provided as well as the imports for pandas and numpy.\n",
        "\n",
        "* load your CSV file into a DataFrame named `df_mosquito`"
      ]
    },
    {
      "cell_type": "code",
      "execution_count": null,
      "metadata": {
        "deletable": false,
        "id": "-5ubUxGnTn6k",
        "nbgrader": {
          "cell_type": "code",
          "checksum": "a79cf5edca9e94a4824036e800f7a3e3",
          "grade": false,
          "grade_id": "cell-dae3789e00dd9b29",
          "locked": false,
          "schema_version": 3,
          "solution": true,
          "task": false
        },
        "colab": {
          "base_uri": "https://localhost:8080/",
          "height": 206
        },
        "outputId": "c2a1c92f-6ff1-4d39-efee-42c62573f915"
      },
      "outputs": [
        {
          "output_type": "execute_result",
          "data": {
            "text/plain": [
              "   ID  Mosq_count\n",
              "0   1           4\n",
              "1   2          10\n",
              "2   3          13\n",
              "3   4           0\n",
              "4   5          11"
            ],
            "text/html": [
              "\n",
              "  <div id=\"df-e38fe41a-4b9e-4edc-9593-25e7296602f3\">\n",
              "    <div class=\"colab-df-container\">\n",
              "      <div>\n",
              "<style scoped>\n",
              "    .dataframe tbody tr th:only-of-type {\n",
              "        vertical-align: middle;\n",
              "    }\n",
              "\n",
              "    .dataframe tbody tr th {\n",
              "        vertical-align: top;\n",
              "    }\n",
              "\n",
              "    .dataframe thead th {\n",
              "        text-align: right;\n",
              "    }\n",
              "</style>\n",
              "<table border=\"1\" class=\"dataframe\">\n",
              "  <thead>\n",
              "    <tr style=\"text-align: right;\">\n",
              "      <th></th>\n",
              "      <th>ID</th>\n",
              "      <th>Mosq_count</th>\n",
              "    </tr>\n",
              "  </thead>\n",
              "  <tbody>\n",
              "    <tr>\n",
              "      <th>0</th>\n",
              "      <td>1</td>\n",
              "      <td>4</td>\n",
              "    </tr>\n",
              "    <tr>\n",
              "      <th>1</th>\n",
              "      <td>2</td>\n",
              "      <td>10</td>\n",
              "    </tr>\n",
              "    <tr>\n",
              "      <th>2</th>\n",
              "      <td>3</td>\n",
              "      <td>13</td>\n",
              "    </tr>\n",
              "    <tr>\n",
              "      <th>3</th>\n",
              "      <td>4</td>\n",
              "      <td>0</td>\n",
              "    </tr>\n",
              "    <tr>\n",
              "      <th>4</th>\n",
              "      <td>5</td>\n",
              "      <td>11</td>\n",
              "    </tr>\n",
              "  </tbody>\n",
              "</table>\n",
              "</div>\n",
              "      <button class=\"colab-df-convert\" onclick=\"convertToInteractive('df-e38fe41a-4b9e-4edc-9593-25e7296602f3')\"\n",
              "              title=\"Convert this dataframe to an interactive table.\"\n",
              "              style=\"display:none;\">\n",
              "        \n",
              "  <svg xmlns=\"http://www.w3.org/2000/svg\" height=\"24px\"viewBox=\"0 0 24 24\"\n",
              "       width=\"24px\">\n",
              "    <path d=\"M0 0h24v24H0V0z\" fill=\"none\"/>\n",
              "    <path d=\"M18.56 5.44l.94 2.06.94-2.06 2.06-.94-2.06-.94-.94-2.06-.94 2.06-2.06.94zm-11 1L8.5 8.5l.94-2.06 2.06-.94-2.06-.94L8.5 2.5l-.94 2.06-2.06.94zm10 10l.94 2.06.94-2.06 2.06-.94-2.06-.94-.94-2.06-.94 2.06-2.06.94z\"/><path d=\"M17.41 7.96l-1.37-1.37c-.4-.4-.92-.59-1.43-.59-.52 0-1.04.2-1.43.59L10.3 9.45l-7.72 7.72c-.78.78-.78 2.05 0 2.83L4 21.41c.39.39.9.59 1.41.59.51 0 1.02-.2 1.41-.59l7.78-7.78 2.81-2.81c.8-.78.8-2.07 0-2.86zM5.41 20L4 18.59l7.72-7.72 1.47 1.35L5.41 20z\"/>\n",
              "  </svg>\n",
              "      </button>\n",
              "      \n",
              "  <style>\n",
              "    .colab-df-container {\n",
              "      display:flex;\n",
              "      flex-wrap:wrap;\n",
              "      gap: 12px;\n",
              "    }\n",
              "\n",
              "    .colab-df-convert {\n",
              "      background-color: #E8F0FE;\n",
              "      border: none;\n",
              "      border-radius: 50%;\n",
              "      cursor: pointer;\n",
              "      display: none;\n",
              "      fill: #1967D2;\n",
              "      height: 32px;\n",
              "      padding: 0 0 0 0;\n",
              "      width: 32px;\n",
              "    }\n",
              "\n",
              "    .colab-df-convert:hover {\n",
              "      background-color: #E2EBFA;\n",
              "      box-shadow: 0px 1px 2px rgba(60, 64, 67, 0.3), 0px 1px 3px 1px rgba(60, 64, 67, 0.15);\n",
              "      fill: #174EA6;\n",
              "    }\n",
              "\n",
              "    [theme=dark] .colab-df-convert {\n",
              "      background-color: #3B4455;\n",
              "      fill: #D2E3FC;\n",
              "    }\n",
              "\n",
              "    [theme=dark] .colab-df-convert:hover {\n",
              "      background-color: #434B5C;\n",
              "      box-shadow: 0px 1px 3px 1px rgba(0, 0, 0, 0.15);\n",
              "      filter: drop-shadow(0px 1px 2px rgba(0, 0, 0, 0.3));\n",
              "      fill: #FFFFFF;\n",
              "    }\n",
              "  </style>\n",
              "\n",
              "      <script>\n",
              "        const buttonEl =\n",
              "          document.querySelector('#df-e38fe41a-4b9e-4edc-9593-25e7296602f3 button.colab-df-convert');\n",
              "        buttonEl.style.display =\n",
              "          google.colab.kernel.accessAllowed ? 'block' : 'none';\n",
              "\n",
              "        async function convertToInteractive(key) {\n",
              "          const element = document.querySelector('#df-e38fe41a-4b9e-4edc-9593-25e7296602f3');\n",
              "          const dataTable =\n",
              "            await google.colab.kernel.invokeFunction('convertToInteractive',\n",
              "                                                     [key], {});\n",
              "          if (!dataTable) return;\n",
              "\n",
              "          const docLinkHtml = 'Like what you see? Visit the ' +\n",
              "            '<a target=\"_blank\" href=https://colab.research.google.com/notebooks/data_table.ipynb>data table notebook</a>'\n",
              "            + ' to learn more about interactive tables.';\n",
              "          element.innerHTML = '';\n",
              "          dataTable['output_type'] = 'display_data';\n",
              "          await google.colab.output.renderOutput(dataTable, element);\n",
              "          const docLink = document.createElement('div');\n",
              "          docLink.innerHTML = docLinkHtml;\n",
              "          element.appendChild(docLink);\n",
              "        }\n",
              "      </script>\n",
              "    </div>\n",
              "  </div>\n",
              "  "
            ]
          },
          "metadata": {},
          "execution_count": 13
        }
      ],
      "source": [
        "# Task 1\n",
        "import pandas as pd\n",
        "import numpy as np\n",
        "\n",
        "# URL for the dataset\n",
        "data_url = 'https://raw.githubusercontent.com/LambdaSchool/data-science-practice-datasets/main/unit_1/Mosquito/Mosquito.csv'\n",
        "\n",
        "# YOUR CODE HERE\n",
        "df_mosquito = pd.read_csv(data_url)\n",
        "\n",
        "# Print out your DataFrame\n",
        "df_mosquito.head()"
      ]
    },
    {
      "cell_type": "markdown",
      "metadata": {
        "id": "1RY9e-T_FQmz"
      },
      "source": [
        "**Task 1 Test**"
      ]
    },
    {
      "cell_type": "code",
      "execution_count": null,
      "metadata": {
        "deletable": false,
        "editable": false,
        "id": "AOQZ8K_6FQmz",
        "nbgrader": {
          "cell_type": "code",
          "checksum": "f554f6a993c5e6159020716a3c7a13da",
          "grade": true,
          "grade_id": "cell-a347d8dd7572e6d4",
          "locked": true,
          "points": 1,
          "schema_version": 3,
          "solution": false,
          "task": false
        }
      },
      "outputs": [],
      "source": [
        "# Task 1 - Test\n",
        "\n",
        "assert isinstance(df_mosquito, pd.DataFrame), 'Have you created a DataFrame named `df_mosquito`?'\n",
        "assert len(df_mosquito) == 90\n"
      ]
    },
    {
      "cell_type": "markdown",
      "metadata": {
        "id": "9cEe4HiqFQm0"
      },
      "source": [
        "**Task 2** - Calculate the mean\n",
        "\n",
        "* Calculate the mean number of mosquito touches in the sample. Assign your answer to the variable `mosquito_touch_mean`."
      ]
    },
    {
      "cell_type": "code",
      "execution_count": null,
      "metadata": {
        "deletable": false,
        "id": "27r_eZsrFQm0",
        "nbgrader": {
          "cell_type": "code",
          "checksum": "4d113283ed2cdf039a1455d22e8e9207",
          "grade": false,
          "grade_id": "cell-22ced5cd2cae6230",
          "locked": false,
          "schema_version": 3,
          "solution": true,
          "task": false
        }
      },
      "outputs": [],
      "source": [
        "# Task 2\n",
        "\n",
        "# YOUR CODE HERE\n",
        "mosquito_touch_mean = df_mosquito['Mosq_count'].mean()"
      ]
    },
    {
      "cell_type": "markdown",
      "metadata": {
        "id": "ZSnEfbUbFQm0"
      },
      "source": [
        "**Task 2 Test**"
      ]
    },
    {
      "cell_type": "code",
      "execution_count": null,
      "metadata": {
        "deletable": false,
        "editable": false,
        "id": "JcRrAtPEFQm0",
        "nbgrader": {
          "cell_type": "code",
          "checksum": "8bea9ae9e6958ffeead2d66e89babaf0",
          "grade": true,
          "grade_id": "cell-3970fbb1a3eaefb5",
          "locked": true,
          "points": 1,
          "schema_version": 3,
          "solution": false,
          "task": false
        }
      },
      "outputs": [],
      "source": [
        "# Task 2 - Test\n",
        "# Hidden tests - you will see the results when you submit to Canvas"
      ]
    },
    {
      "cell_type": "markdown",
      "metadata": {
        "id": "VwfMz7VAFQm1"
      },
      "source": [
        "**Task 3** - Calculate the standard deviation\n",
        "\n",
        "* Calculate the standard deviation of the number of mosquito touches in the sample. Assign your answer to `mosquito_touch_std`."
      ]
    },
    {
      "cell_type": "code",
      "execution_count": null,
      "metadata": {
        "deletable": false,
        "id": "zTCFeDauFQm1",
        "nbgrader": {
          "cell_type": "code",
          "checksum": "b965071216ba36fb9ade446d69244ff3",
          "grade": false,
          "grade_id": "cell-9c4fe58a9fe2d7aa",
          "locked": false,
          "schema_version": 3,
          "solution": true,
          "task": false
        }
      },
      "outputs": [],
      "source": [
        "# Task 3\n",
        "\n",
        "# YOUR CODE HERE\n",
        "mosquito_touch_std = df_mosquito['Mosq_count'].std()\n",
        "  #by default, ddof = 1 -> divides sum of squared deviations by n - ddof"
      ]
    },
    {
      "cell_type": "markdown",
      "metadata": {
        "id": "7YboOb58FQm1"
      },
      "source": [
        "**Task 3 Test**"
      ]
    },
    {
      "cell_type": "code",
      "execution_count": null,
      "metadata": {
        "deletable": false,
        "editable": false,
        "id": "qjWEPFj7FQm1",
        "nbgrader": {
          "cell_type": "code",
          "checksum": "30bf26cced1f6b808e0532055f033799",
          "grade": true,
          "grade_id": "cell-4939c4289c39b4e3",
          "locked": true,
          "points": 1,
          "schema_version": 3,
          "solution": false,
          "task": false
        }
      },
      "outputs": [],
      "source": [
        "# Task 3 - Test\n",
        "# Hidden tests - you will see the results when you submit to Canvas"
      ]
    },
    {
      "cell_type": "markdown",
      "metadata": {
        "id": "jPmpfULFFQmz"
      },
      "source": [
        "**Task 4 -** Statistical hypotheses\n",
        "\n",
        "From the list of choices below, select the null and alternative hypotheses using the experiment information described above.  Specify your answer in the next code block using `Answer = `.  For example, if the correct answer is choice B, you'll type `Answer = 'B'`.\n",
        "\n",
        "A: $H_0: \\mu = 8$ vs. $H_a: \\mu = 8$\n",
        "\n",
        "B: $H_0: \\mu \\neq 8.2$ vs. $H_a: \\mu = 8$\n",
        "\n",
        "C: $H_0: \\mu \\neq 8.2$ vs. $H_a: \\mu = 8.2$ \n",
        "\n",
        "D: $H_0: \\mu =8.2$ vs. $H_a: \\mu \\neq 8.2$ "
      ]
    },
    {
      "cell_type": "code",
      "execution_count": null,
      "metadata": {
        "deletable": false,
        "id": "AhGVMf2tK2LF",
        "nbgrader": {
          "cell_type": "code",
          "checksum": "06c7e97d50b75b54924a09d17e82d495",
          "grade": false,
          "grade_id": "cell-5ab063cfe94f3929",
          "locked": false,
          "schema_version": 3,
          "solution": true,
          "task": false
        }
      },
      "outputs": [],
      "source": [
        "# Task 4\n",
        "\n",
        "# YOUR CODE HERE\n",
        "Answer = 'D'\n"
      ]
    },
    {
      "cell_type": "markdown",
      "metadata": {
        "id": "kbd9KuumLBxO"
      },
      "source": [
        "**Task 4 Test**"
      ]
    },
    {
      "cell_type": "code",
      "execution_count": null,
      "metadata": {
        "deletable": false,
        "editable": false,
        "nbgrader": {
          "cell_type": "code",
          "checksum": "724a4e64b91e739831d60360689acf9d",
          "grade": true,
          "grade_id": "cell-085e920bd147cbab",
          "locked": true,
          "points": 1,
          "schema_version": 3,
          "solution": false,
          "task": false
        },
        "id": "WSGmJTVn3n-5"
      },
      "outputs": [],
      "source": [
        "# Task 4 - Test\n",
        "# Hidden tests - you will see the results when you submit to Canvas"
      ]
    },
    {
      "cell_type": "markdown",
      "metadata": {
        "id": "grU76-AUFQm1"
      },
      "source": [
        "**Task 5** - One-sample t-test\n",
        "\n",
        "* Conduct a 1-sample t-test to test your hypotheses. Assign your t-test result to the variable `mosquito_pval`. **This should be a single value**.\n",
        "\n",
        "*Hint: The `stats.ttest_1samp()` function returns two values; assign the results of the t-test to `_, mosquito_pval`.*"
      ]
    },
    {
      "cell_type": "code",
      "execution_count": null,
      "metadata": {
        "deletable": false,
        "id": "-wTk5Y1hFQm1",
        "nbgrader": {
          "cell_type": "code",
          "checksum": "25e7202a6ae1680c595093a5087476be",
          "grade": false,
          "grade_id": "cell-44b3f2a39081c5df",
          "locked": false,
          "schema_version": 3,
          "solution": true,
          "task": false
        },
        "colab": {
          "base_uri": "https://localhost:8080/"
        },
        "outputId": "37c36d4a-9aea-4089-de30-b4ae164f25c4"
      },
      "outputs": [
        {
          "output_type": "stream",
          "name": "stdout",
          "text": [
            "0.5864980356272131\n"
          ]
        }
      ],
      "source": [
        "# Task 5\n",
        "\n",
        "# Use the 'ttest_1samp' from the stats package\n",
        "from scipy import stats\n",
        "\n",
        "# YOUR CODE HERE\n",
        "mosquito_pval = stats.ttest_1samp(df_mosquito['Mosq_count'], popmean=8.2).pvalue\n",
        "print(mosquito_pval)"
      ]
    },
    {
      "cell_type": "markdown",
      "metadata": {
        "id": "MaBqJCZcFQm2"
      },
      "source": [
        "**Task 5 Test**"
      ]
    },
    {
      "cell_type": "code",
      "execution_count": null,
      "metadata": {
        "deletable": false,
        "editable": false,
        "id": "Mz-vEAVbFQm2",
        "nbgrader": {
          "cell_type": "code",
          "checksum": "4674209f4aac3c4072c34e2366764b6c",
          "grade": true,
          "grade_id": "cell-3be2eb1f16e366e6",
          "locked": true,
          "points": 1,
          "schema_version": 3,
          "solution": false,
          "task": false
        }
      },
      "outputs": [],
      "source": [
        "# Task 5 - Test\n",
        "# Hidden tests - you will see the results when you submit to Canvas"
      ]
    },
    {
      "cell_type": "markdown",
      "metadata": {
        "id": "EcHLBuBVFQm2"
      },
      "source": [
        "**Task 6**\n",
        "\n",
        "Select the correct conclusion at the 0.05 significance level from the list of choices below. Specify your answer in the next code block using `Answer = `.  For example, if the correct answer is choice B, you'll type `Answer = 'B'`.\n",
        "\n",
        "A: We reject the null hypothesis at the 0.05 significance level and conclude that a single repellent patch reduces the mean number of mosquito touches.\n",
        "\n",
        "B: We fail to reject the null hypothesis at the 0.05 significance level and conclude that a single repellent patch reduces the mean number of mosquito touches.\n",
        "\n",
        "C: We fail to reject the null hypothesis at the 0.05 significance level and conclude that a single repellent patch does not change the mean number of mosquito touches.\n",
        "\n",
        "D: We reject the null hypothesis at the 0.05 significance level and conclude that a single repellent patch does not increase the mean number of mosquito touches.\n"
      ]
    },
    {
      "cell_type": "code",
      "execution_count": null,
      "metadata": {
        "deletable": false,
        "id": "2VqMVLj0MjZu",
        "nbgrader": {
          "cell_type": "code",
          "checksum": "fee35d38a664491e0b999d701e3701d2",
          "grade": false,
          "grade_id": "cell-4d35984ef163c5e1",
          "locked": false,
          "schema_version": 3,
          "solution": true,
          "task": false
        }
      },
      "outputs": [],
      "source": [
        "# Task 6\n",
        "\n",
        "# YOUR CODE HERE\n",
        "Answer = 'C'\n"
      ]
    },
    {
      "cell_type": "markdown",
      "metadata": {
        "id": "kn461ny8MjZ7"
      },
      "source": [
        "**Task 6 Test**"
      ]
    },
    {
      "cell_type": "code",
      "execution_count": null,
      "metadata": {
        "deletable": false,
        "editable": false,
        "nbgrader": {
          "cell_type": "code",
          "checksum": "ad35703935e3b0e2f96dd48d25a770f9",
          "grade": true,
          "grade_id": "cell-2f182809a44a91f5",
          "locked": true,
          "points": 1,
          "schema_version": 3,
          "solution": false,
          "task": false
        },
        "id": "5IefBYro3n--"
      },
      "outputs": [],
      "source": [
        "# Task 6 - Test\n",
        "# Hidden tests - you will see the results when you submit to Canvas"
      ]
    },
    {
      "cell_type": "markdown",
      "metadata": {
        "id": "FGnFRSjRqG9s"
      },
      "source": [
        "## Use the following information to complete Tasks 7-13\n",
        "\n",
        "### Introduction\n",
        "\n",
        "More than 14,000 people finished the 2020 Disney Marathon held on January 12. The results by age and gender group are included in the `Disney.csv dataset`. \n",
        "\n",
        "**We wish to determine if the mean finishing time for male and female marathon runners is the same or if there is a difference in the mean finishing time between male and female marathon runners.**\n",
        "\n",
        "\n",
        "[Source: Track Shack. 2020 Disney Marathon Race Results](https://www.trackshackresults.com/disneysports/results/wdw/wdw20/mar_results.php)"
      ]
    },
    {
      "cell_type": "markdown",
      "metadata": {
        "id": "FKI1CcBFFQm2"
      },
      "source": [
        "**Task 7** - Load the next dataset\n",
        "\n",
        "Let's load the data! The URL has been provided.\n",
        "\n",
        "* load your CSV file into a DataFrame named `df_disney`"
      ]
    },
    {
      "cell_type": "code",
      "execution_count": null,
      "metadata": {
        "deletable": false,
        "id": "KIpOQrHytz2P",
        "nbgrader": {
          "cell_type": "code",
          "checksum": "b14fac35b78622982353db3854cbbcb8",
          "grade": false,
          "grade_id": "cell-2b389fa658a51cd2",
          "locked": false,
          "schema_version": 3,
          "solution": true,
          "task": false
        },
        "colab": {
          "base_uri": "https://localhost:8080/",
          "height": 423
        },
        "outputId": "066d8d95-95f5-458f-ee6e-ebc911e59868"
      },
      "outputs": [
        {
          "output_type": "execute_result",
          "data": {
            "text/plain": [
              "          ID gender  age   group      time\n",
              "0          1      M   30  M30-34  2.371944\n",
              "1          2      M   26  M25-29  2.450556\n",
              "2          3      M   32  M30-34  2.457778\n",
              "3          4      M   35  M35-39  2.655833\n",
              "4          5      M   26  M25-29  2.736111\n",
              "...      ...    ...  ...     ...       ...\n",
              "14101  14102      F   39  F35-39  7.320278\n",
              "14102  14103      F   54  F50-54  7.340556\n",
              "14103  14104      M   39  M35-39  7.383333\n",
              "14104  14105      M   52  M50-54  7.400000\n",
              "14105  14106      M   46  M45-49  7.406944\n",
              "\n",
              "[14106 rows x 5 columns]"
            ],
            "text/html": [
              "\n",
              "  <div id=\"df-03ecfb92-aa96-4f5d-8cc8-48fdc5e59699\">\n",
              "    <div class=\"colab-df-container\">\n",
              "      <div>\n",
              "<style scoped>\n",
              "    .dataframe tbody tr th:only-of-type {\n",
              "        vertical-align: middle;\n",
              "    }\n",
              "\n",
              "    .dataframe tbody tr th {\n",
              "        vertical-align: top;\n",
              "    }\n",
              "\n",
              "    .dataframe thead th {\n",
              "        text-align: right;\n",
              "    }\n",
              "</style>\n",
              "<table border=\"1\" class=\"dataframe\">\n",
              "  <thead>\n",
              "    <tr style=\"text-align: right;\">\n",
              "      <th></th>\n",
              "      <th>ID</th>\n",
              "      <th>gender</th>\n",
              "      <th>age</th>\n",
              "      <th>group</th>\n",
              "      <th>time</th>\n",
              "    </tr>\n",
              "  </thead>\n",
              "  <tbody>\n",
              "    <tr>\n",
              "      <th>0</th>\n",
              "      <td>1</td>\n",
              "      <td>M</td>\n",
              "      <td>30</td>\n",
              "      <td>M30-34</td>\n",
              "      <td>2.371944</td>\n",
              "    </tr>\n",
              "    <tr>\n",
              "      <th>1</th>\n",
              "      <td>2</td>\n",
              "      <td>M</td>\n",
              "      <td>26</td>\n",
              "      <td>M25-29</td>\n",
              "      <td>2.450556</td>\n",
              "    </tr>\n",
              "    <tr>\n",
              "      <th>2</th>\n",
              "      <td>3</td>\n",
              "      <td>M</td>\n",
              "      <td>32</td>\n",
              "      <td>M30-34</td>\n",
              "      <td>2.457778</td>\n",
              "    </tr>\n",
              "    <tr>\n",
              "      <th>3</th>\n",
              "      <td>4</td>\n",
              "      <td>M</td>\n",
              "      <td>35</td>\n",
              "      <td>M35-39</td>\n",
              "      <td>2.655833</td>\n",
              "    </tr>\n",
              "    <tr>\n",
              "      <th>4</th>\n",
              "      <td>5</td>\n",
              "      <td>M</td>\n",
              "      <td>26</td>\n",
              "      <td>M25-29</td>\n",
              "      <td>2.736111</td>\n",
              "    </tr>\n",
              "    <tr>\n",
              "      <th>...</th>\n",
              "      <td>...</td>\n",
              "      <td>...</td>\n",
              "      <td>...</td>\n",
              "      <td>...</td>\n",
              "      <td>...</td>\n",
              "    </tr>\n",
              "    <tr>\n",
              "      <th>14101</th>\n",
              "      <td>14102</td>\n",
              "      <td>F</td>\n",
              "      <td>39</td>\n",
              "      <td>F35-39</td>\n",
              "      <td>7.320278</td>\n",
              "    </tr>\n",
              "    <tr>\n",
              "      <th>14102</th>\n",
              "      <td>14103</td>\n",
              "      <td>F</td>\n",
              "      <td>54</td>\n",
              "      <td>F50-54</td>\n",
              "      <td>7.340556</td>\n",
              "    </tr>\n",
              "    <tr>\n",
              "      <th>14103</th>\n",
              "      <td>14104</td>\n",
              "      <td>M</td>\n",
              "      <td>39</td>\n",
              "      <td>M35-39</td>\n",
              "      <td>7.383333</td>\n",
              "    </tr>\n",
              "    <tr>\n",
              "      <th>14104</th>\n",
              "      <td>14105</td>\n",
              "      <td>M</td>\n",
              "      <td>52</td>\n",
              "      <td>M50-54</td>\n",
              "      <td>7.400000</td>\n",
              "    </tr>\n",
              "    <tr>\n",
              "      <th>14105</th>\n",
              "      <td>14106</td>\n",
              "      <td>M</td>\n",
              "      <td>46</td>\n",
              "      <td>M45-49</td>\n",
              "      <td>7.406944</td>\n",
              "    </tr>\n",
              "  </tbody>\n",
              "</table>\n",
              "<p>14106 rows × 5 columns</p>\n",
              "</div>\n",
              "      <button class=\"colab-df-convert\" onclick=\"convertToInteractive('df-03ecfb92-aa96-4f5d-8cc8-48fdc5e59699')\"\n",
              "              title=\"Convert this dataframe to an interactive table.\"\n",
              "              style=\"display:none;\">\n",
              "        \n",
              "  <svg xmlns=\"http://www.w3.org/2000/svg\" height=\"24px\"viewBox=\"0 0 24 24\"\n",
              "       width=\"24px\">\n",
              "    <path d=\"M0 0h24v24H0V0z\" fill=\"none\"/>\n",
              "    <path d=\"M18.56 5.44l.94 2.06.94-2.06 2.06-.94-2.06-.94-.94-2.06-.94 2.06-2.06.94zm-11 1L8.5 8.5l.94-2.06 2.06-.94-2.06-.94L8.5 2.5l-.94 2.06-2.06.94zm10 10l.94 2.06.94-2.06 2.06-.94-2.06-.94-.94-2.06-.94 2.06-2.06.94z\"/><path d=\"M17.41 7.96l-1.37-1.37c-.4-.4-.92-.59-1.43-.59-.52 0-1.04.2-1.43.59L10.3 9.45l-7.72 7.72c-.78.78-.78 2.05 0 2.83L4 21.41c.39.39.9.59 1.41.59.51 0 1.02-.2 1.41-.59l7.78-7.78 2.81-2.81c.8-.78.8-2.07 0-2.86zM5.41 20L4 18.59l7.72-7.72 1.47 1.35L5.41 20z\"/>\n",
              "  </svg>\n",
              "      </button>\n",
              "      \n",
              "  <style>\n",
              "    .colab-df-container {\n",
              "      display:flex;\n",
              "      flex-wrap:wrap;\n",
              "      gap: 12px;\n",
              "    }\n",
              "\n",
              "    .colab-df-convert {\n",
              "      background-color: #E8F0FE;\n",
              "      border: none;\n",
              "      border-radius: 50%;\n",
              "      cursor: pointer;\n",
              "      display: none;\n",
              "      fill: #1967D2;\n",
              "      height: 32px;\n",
              "      padding: 0 0 0 0;\n",
              "      width: 32px;\n",
              "    }\n",
              "\n",
              "    .colab-df-convert:hover {\n",
              "      background-color: #E2EBFA;\n",
              "      box-shadow: 0px 1px 2px rgba(60, 64, 67, 0.3), 0px 1px 3px 1px rgba(60, 64, 67, 0.15);\n",
              "      fill: #174EA6;\n",
              "    }\n",
              "\n",
              "    [theme=dark] .colab-df-convert {\n",
              "      background-color: #3B4455;\n",
              "      fill: #D2E3FC;\n",
              "    }\n",
              "\n",
              "    [theme=dark] .colab-df-convert:hover {\n",
              "      background-color: #434B5C;\n",
              "      box-shadow: 0px 1px 3px 1px rgba(0, 0, 0, 0.15);\n",
              "      filter: drop-shadow(0px 1px 2px rgba(0, 0, 0, 0.3));\n",
              "      fill: #FFFFFF;\n",
              "    }\n",
              "  </style>\n",
              "\n",
              "      <script>\n",
              "        const buttonEl =\n",
              "          document.querySelector('#df-03ecfb92-aa96-4f5d-8cc8-48fdc5e59699 button.colab-df-convert');\n",
              "        buttonEl.style.display =\n",
              "          google.colab.kernel.accessAllowed ? 'block' : 'none';\n",
              "\n",
              "        async function convertToInteractive(key) {\n",
              "          const element = document.querySelector('#df-03ecfb92-aa96-4f5d-8cc8-48fdc5e59699');\n",
              "          const dataTable =\n",
              "            await google.colab.kernel.invokeFunction('convertToInteractive',\n",
              "                                                     [key], {});\n",
              "          if (!dataTable) return;\n",
              "\n",
              "          const docLinkHtml = 'Like what you see? Visit the ' +\n",
              "            '<a target=\"_blank\" href=https://colab.research.google.com/notebooks/data_table.ipynb>data table notebook</a>'\n",
              "            + ' to learn more about interactive tables.';\n",
              "          element.innerHTML = '';\n",
              "          dataTable['output_type'] = 'display_data';\n",
              "          await google.colab.output.renderOutput(dataTable, element);\n",
              "          const docLink = document.createElement('div');\n",
              "          docLink.innerHTML = docLinkHtml;\n",
              "          element.appendChild(docLink);\n",
              "        }\n",
              "      </script>\n",
              "    </div>\n",
              "  </div>\n",
              "  "
            ]
          },
          "metadata": {},
          "execution_count": 11
        }
      ],
      "source": [
        "# Task 7\n",
        "\n",
        "# URL for Disney marathon dataset\n",
        "data_url2 = 'https://raw.githubusercontent.com/LambdaSchool/data-science-practice-datasets/main/unit_1/Disney_Marathon/Disney.csv'\n",
        "\n",
        "# YOUR CODE HERE\n",
        "df_disney = pd.read_csv(data_url2)\n",
        "df_disney"
      ]
    },
    {
      "cell_type": "markdown",
      "metadata": {
        "id": "Qiwzz_nfFQm3"
      },
      "source": [
        "**Task 7 Test**"
      ]
    },
    {
      "cell_type": "code",
      "execution_count": null,
      "metadata": {
        "deletable": false,
        "editable": false,
        "id": "uV3GQJqKFQm3",
        "nbgrader": {
          "cell_type": "code",
          "checksum": "157a068e31f72c13d744cf606d9fb08b",
          "grade": true,
          "grade_id": "cell-c1f16b75c543e0d1",
          "locked": true,
          "points": 1,
          "schema_version": 3,
          "solution": false,
          "task": false
        }
      },
      "outputs": [],
      "source": [
        "# Task 7 - Test\n",
        "\n",
        "assert isinstance(df_disney, pd.DataFrame), 'Have you created a DataFrame named `df_disney`?'\n",
        "assert len(df_disney) == 14106\n"
      ]
    },
    {
      "cell_type": "markdown",
      "metadata": {
        "id": "RvxaZUrbNXvY"
      },
      "source": [
        "**Task 8 -** Statistical hypotheses\n",
        "\n",
        "From the list of choices below, select the null and alternative hypotheses using the experiment information described above.  Let $\\mu_1$ be the mean finishing time for all male runners and $\\mu_2$ be the mean finishing time for all female runners.\n",
        "\n",
        "Specify your answer in the next code block using `Answer = `.  For example, if the correct answer is choice B, you'll type `Answer = 'B'`.\n",
        "\n",
        "A: $H_0: \\mu_1 \\neq \\mu_2$ vs. $H_a: \\mu_1 = \\mu_2$\n",
        "\n",
        "B: $H_0: \\mu_1 = \\mu_2$ vs. $H_a: \\mu_1 \\neq \\mu_2$\n",
        "\n",
        "C: $H_0: \\mu_1 > \\mu_2$ vs. $H_a: \\mu_1 < \\mu_2$ \n",
        "\n",
        "D: $H_0: \\mu_1 <  \\mu_2$ vs. $H_a: \\mu_1 > \\mu_2$ "
      ]
    },
    {
      "cell_type": "code",
      "execution_count": null,
      "metadata": {
        "deletable": false,
        "id": "9SnqedsaNXvb",
        "nbgrader": {
          "cell_type": "code",
          "checksum": "8f54b7224cc104c08b4539067d8e2b18",
          "grade": false,
          "grade_id": "cell-de36ef90faad17d8",
          "locked": false,
          "schema_version": 3,
          "solution": true,
          "task": false
        }
      },
      "outputs": [],
      "source": [
        "# Task 8\n",
        "\n",
        "# YOUR CODE HERE\n",
        "Answer = 'B'\n"
      ]
    },
    {
      "cell_type": "markdown",
      "metadata": {
        "id": "jGLHnEkjNXvb"
      },
      "source": [
        "**Task 8 Test**"
      ]
    },
    {
      "cell_type": "code",
      "execution_count": null,
      "metadata": {
        "deletable": false,
        "editable": false,
        "nbgrader": {
          "cell_type": "code",
          "checksum": "2a60b9380c099492b3d27a9662d5f7c1",
          "grade": true,
          "grade_id": "cell-492e80f1f416b2c9",
          "locked": true,
          "points": 1,
          "schema_version": 3,
          "solution": false,
          "task": false
        },
        "id": "BOywDpkv3n_C"
      },
      "outputs": [],
      "source": [
        "# Task 8 - Test\n",
        "# Hidden tests - you will see the results when you submit to Canvas"
      ]
    },
    {
      "cell_type": "markdown",
      "metadata": {
        "id": "z8iVyfsxFQm3"
      },
      "source": [
        "**Task 9** - Create new series from a DataFrame\n",
        "\n",
        "Create **Series** (a pandas DataFrame column is a Series):\n",
        "\n",
        "* one containing finishing times for male participants (`male_finish`)\n",
        "* one containing finishing times for female participants (`female_finish`)\n",
        "\n",
        "*Hint: Check the size of your resulting Series - it should have only one column!*"
      ]
    },
    {
      "cell_type": "code",
      "source": [
        "df_disney.head(n=3)"
      ],
      "metadata": {
        "colab": {
          "base_uri": "https://localhost:8080/",
          "height": 143
        },
        "id": "63KOGTTkLADc",
        "outputId": "bed37f35-cb5c-4b7f-a58e-0971bbde4785"
      },
      "execution_count": null,
      "outputs": [
        {
          "output_type": "execute_result",
          "data": {
            "text/plain": [
              "   ID gender  age   group      time\n",
              "0   1      M   30  M30-34  2.371944\n",
              "1   2      M   26  M25-29  2.450556\n",
              "2   3      M   32  M30-34  2.457778"
            ],
            "text/html": [
              "\n",
              "  <div id=\"df-2f639e42-7ad3-4487-864c-3e01d123ad34\">\n",
              "    <div class=\"colab-df-container\">\n",
              "      <div>\n",
              "<style scoped>\n",
              "    .dataframe tbody tr th:only-of-type {\n",
              "        vertical-align: middle;\n",
              "    }\n",
              "\n",
              "    .dataframe tbody tr th {\n",
              "        vertical-align: top;\n",
              "    }\n",
              "\n",
              "    .dataframe thead th {\n",
              "        text-align: right;\n",
              "    }\n",
              "</style>\n",
              "<table border=\"1\" class=\"dataframe\">\n",
              "  <thead>\n",
              "    <tr style=\"text-align: right;\">\n",
              "      <th></th>\n",
              "      <th>ID</th>\n",
              "      <th>gender</th>\n",
              "      <th>age</th>\n",
              "      <th>group</th>\n",
              "      <th>time</th>\n",
              "    </tr>\n",
              "  </thead>\n",
              "  <tbody>\n",
              "    <tr>\n",
              "      <th>0</th>\n",
              "      <td>1</td>\n",
              "      <td>M</td>\n",
              "      <td>30</td>\n",
              "      <td>M30-34</td>\n",
              "      <td>2.371944</td>\n",
              "    </tr>\n",
              "    <tr>\n",
              "      <th>1</th>\n",
              "      <td>2</td>\n",
              "      <td>M</td>\n",
              "      <td>26</td>\n",
              "      <td>M25-29</td>\n",
              "      <td>2.450556</td>\n",
              "    </tr>\n",
              "    <tr>\n",
              "      <th>2</th>\n",
              "      <td>3</td>\n",
              "      <td>M</td>\n",
              "      <td>32</td>\n",
              "      <td>M30-34</td>\n",
              "      <td>2.457778</td>\n",
              "    </tr>\n",
              "  </tbody>\n",
              "</table>\n",
              "</div>\n",
              "      <button class=\"colab-df-convert\" onclick=\"convertToInteractive('df-2f639e42-7ad3-4487-864c-3e01d123ad34')\"\n",
              "              title=\"Convert this dataframe to an interactive table.\"\n",
              "              style=\"display:none;\">\n",
              "        \n",
              "  <svg xmlns=\"http://www.w3.org/2000/svg\" height=\"24px\"viewBox=\"0 0 24 24\"\n",
              "       width=\"24px\">\n",
              "    <path d=\"M0 0h24v24H0V0z\" fill=\"none\"/>\n",
              "    <path d=\"M18.56 5.44l.94 2.06.94-2.06 2.06-.94-2.06-.94-.94-2.06-.94 2.06-2.06.94zm-11 1L8.5 8.5l.94-2.06 2.06-.94-2.06-.94L8.5 2.5l-.94 2.06-2.06.94zm10 10l.94 2.06.94-2.06 2.06-.94-2.06-.94-.94-2.06-.94 2.06-2.06.94z\"/><path d=\"M17.41 7.96l-1.37-1.37c-.4-.4-.92-.59-1.43-.59-.52 0-1.04.2-1.43.59L10.3 9.45l-7.72 7.72c-.78.78-.78 2.05 0 2.83L4 21.41c.39.39.9.59 1.41.59.51 0 1.02-.2 1.41-.59l7.78-7.78 2.81-2.81c.8-.78.8-2.07 0-2.86zM5.41 20L4 18.59l7.72-7.72 1.47 1.35L5.41 20z\"/>\n",
              "  </svg>\n",
              "      </button>\n",
              "      \n",
              "  <style>\n",
              "    .colab-df-container {\n",
              "      display:flex;\n",
              "      flex-wrap:wrap;\n",
              "      gap: 12px;\n",
              "    }\n",
              "\n",
              "    .colab-df-convert {\n",
              "      background-color: #E8F0FE;\n",
              "      border: none;\n",
              "      border-radius: 50%;\n",
              "      cursor: pointer;\n",
              "      display: none;\n",
              "      fill: #1967D2;\n",
              "      height: 32px;\n",
              "      padding: 0 0 0 0;\n",
              "      width: 32px;\n",
              "    }\n",
              "\n",
              "    .colab-df-convert:hover {\n",
              "      background-color: #E2EBFA;\n",
              "      box-shadow: 0px 1px 2px rgba(60, 64, 67, 0.3), 0px 1px 3px 1px rgba(60, 64, 67, 0.15);\n",
              "      fill: #174EA6;\n",
              "    }\n",
              "\n",
              "    [theme=dark] .colab-df-convert {\n",
              "      background-color: #3B4455;\n",
              "      fill: #D2E3FC;\n",
              "    }\n",
              "\n",
              "    [theme=dark] .colab-df-convert:hover {\n",
              "      background-color: #434B5C;\n",
              "      box-shadow: 0px 1px 3px 1px rgba(0, 0, 0, 0.15);\n",
              "      filter: drop-shadow(0px 1px 2px rgba(0, 0, 0, 0.3));\n",
              "      fill: #FFFFFF;\n",
              "    }\n",
              "  </style>\n",
              "\n",
              "      <script>\n",
              "        const buttonEl =\n",
              "          document.querySelector('#df-2f639e42-7ad3-4487-864c-3e01d123ad34 button.colab-df-convert');\n",
              "        buttonEl.style.display =\n",
              "          google.colab.kernel.accessAllowed ? 'block' : 'none';\n",
              "\n",
              "        async function convertToInteractive(key) {\n",
              "          const element = document.querySelector('#df-2f639e42-7ad3-4487-864c-3e01d123ad34');\n",
              "          const dataTable =\n",
              "            await google.colab.kernel.invokeFunction('convertToInteractive',\n",
              "                                                     [key], {});\n",
              "          if (!dataTable) return;\n",
              "\n",
              "          const docLinkHtml = 'Like what you see? Visit the ' +\n",
              "            '<a target=\"_blank\" href=https://colab.research.google.com/notebooks/data_table.ipynb>data table notebook</a>'\n",
              "            + ' to learn more about interactive tables.';\n",
              "          element.innerHTML = '';\n",
              "          dataTable['output_type'] = 'display_data';\n",
              "          await google.colab.output.renderOutput(dataTable, element);\n",
              "          const docLink = document.createElement('div');\n",
              "          docLink.innerHTML = docLinkHtml;\n",
              "          element.appendChild(docLink);\n",
              "        }\n",
              "      </script>\n",
              "    </div>\n",
              "  </div>\n",
              "  "
            ]
          },
          "metadata": {},
          "execution_count": 15
        }
      ]
    },
    {
      "cell_type": "code",
      "execution_count": null,
      "metadata": {
        "deletable": false,
        "id": "jKzFL1O4FQm3",
        "nbgrader": {
          "cell_type": "code",
          "checksum": "e57a216ce84829984c281f73fa701a2a",
          "grade": false,
          "grade_id": "cell-4290d3dd2f668a25",
          "locked": false,
          "schema_version": 3,
          "solution": true,
          "task": false
        }
      },
      "outputs": [],
      "source": [
        "# Task 9\n",
        "\n",
        "# YOUR CODE HERE\n",
        "male_finish = df_disney[df_disney['gender']=='M']['time']\n",
        "female_finish = df_disney[df_disney['gender']=='F']['time']\n",
        "\n"
      ]
    },
    {
      "cell_type": "code",
      "source": [
        "# assert male_finish.shape[0] + female_finish.shape[0] == df_disney.shape[0]"
      ],
      "metadata": {
        "id": "uQ47HUzrLbN8"
      },
      "execution_count": null,
      "outputs": []
    },
    {
      "cell_type": "markdown",
      "metadata": {
        "id": "jR0BQZDOFQm4"
      },
      "source": [
        "**Task 9 Test**"
      ]
    },
    {
      "cell_type": "code",
      "execution_count": null,
      "metadata": {
        "deletable": false,
        "editable": false,
        "id": "HX6vIdPVFQm4",
        "nbgrader": {
          "cell_type": "code",
          "checksum": "b698bddecbae2a260999b87faacf7144",
          "grade": true,
          "grade_id": "cell-5384320ccd7f5048",
          "locked": true,
          "points": 1,
          "schema_version": 3,
          "solution": false,
          "task": false
        }
      },
      "outputs": [],
      "source": [
        "# Task 9 - Test\n",
        "# Visible testing - use this to check your results!\n",
        "assert male_finish.shape == (6577,), 'Make sure you selected M and only have a single column.'\n",
        "assert female_finish.shape == (7529,), 'Make sure you selected F and only have a single column'\n",
        "\n",
        "# NO hidden tests"
      ]
    },
    {
      "cell_type": "markdown",
      "metadata": {
        "id": "aoQoLUUwFQm4"
      },
      "source": [
        "**Task 10** - Calculate the mean finishing times\n",
        "\n",
        "* Calculate the mean finishing time for male and female participants separately. Name your variables `male_finish_mean` and `female_finish_mean`."
      ]
    },
    {
      "cell_type": "code",
      "execution_count": null,
      "metadata": {
        "deletable": false,
        "id": "FbT_uMyiFQm4",
        "nbgrader": {
          "cell_type": "code",
          "checksum": "0740d4260503e50a0b971045ac32b81c",
          "grade": false,
          "grade_id": "cell-f6c55ea4a2dba463",
          "locked": false,
          "schema_version": 3,
          "solution": true,
          "task": false
        }
      },
      "outputs": [],
      "source": [
        "# Task 10\n",
        "\n",
        "# YOUR CODE HERE\n",
        "male_finish_mean = male_finish.mean()\n",
        "female_finish_mean = female_finish.mean()"
      ]
    },
    {
      "cell_type": "markdown",
      "metadata": {
        "id": "mmtsiJtsFQm5"
      },
      "source": [
        "**Task 10 Test**"
      ]
    },
    {
      "cell_type": "code",
      "execution_count": null,
      "metadata": {
        "deletable": false,
        "editable": false,
        "id": "bmUKO7OCFQm5",
        "nbgrader": {
          "cell_type": "code",
          "checksum": "b8c7e27c91f2fa121e07315a8339569c",
          "grade": true,
          "grade_id": "cell-71bc6659db96de45",
          "locked": true,
          "points": 1,
          "schema_version": 3,
          "solution": false,
          "task": false
        }
      },
      "outputs": [],
      "source": [
        "# Task 10 - Test\n",
        "# Hidden tests - you will see the results when you submit to Canvas"
      ]
    },
    {
      "cell_type": "markdown",
      "metadata": {
        "id": "E4hBpeFSFQm5"
      },
      "source": [
        "**Task 11** - Calculate the standard deviation\n",
        "\n",
        "* Calculate standard deviation of the mean finishing time for male and female participants separately. Name your variables `male_finish_std` and `female_finish_std`."
      ]
    },
    {
      "cell_type": "code",
      "execution_count": null,
      "metadata": {
        "deletable": false,
        "id": "Xww6azWUFQm5",
        "nbgrader": {
          "cell_type": "code",
          "checksum": "0668a332d37fe542dfc25bd21bdd0ed0",
          "grade": false,
          "grade_id": "cell-3ac04d8339ec03c3",
          "locked": false,
          "schema_version": 3,
          "solution": true,
          "task": false
        }
      },
      "outputs": [],
      "source": [
        "# Task 11\n",
        "\n",
        "# YOUR CODE HERE\n",
        "male_finish_std = male_finish.std()\n",
        "female_finish_std = female_finish.std()"
      ]
    },
    {
      "cell_type": "markdown",
      "metadata": {
        "id": "Wgvj_UzxFQm5"
      },
      "source": [
        "**Task 11 Test**"
      ]
    },
    {
      "cell_type": "code",
      "execution_count": null,
      "metadata": {
        "deletable": false,
        "editable": false,
        "id": "QA6G8ZVyFQm6",
        "nbgrader": {
          "cell_type": "code",
          "checksum": "4b5a2dce6d574c0f837046a73baff288",
          "grade": true,
          "grade_id": "cell-a2de7fe5b67a1886",
          "locked": true,
          "points": 1,
          "schema_version": 3,
          "solution": false,
          "task": false
        }
      },
      "outputs": [],
      "source": [
        "# Task 11 - Test\n",
        "# Hidden tests - you will see the results when you submit to Canvas"
      ]
    },
    {
      "cell_type": "markdown",
      "metadata": {
        "id": "H4WjCOrLFQm6"
      },
      "source": [
        "**Task 12** - Conduct a 2-sample t-test\n",
        "\n",
        "Conduct a 2-sample t-test to test your hypotheses:\n",
        "\n",
        "* Assign the t-statistic to a variable called `disney_tval`\n",
        "* Assign the p-value to a variable called `disney_pval`\n",
        "\n",
        "**Note:** The function returns two values and you can assign them with one line (example):\n",
        "\n",
        "`variable1, variable2` = `some.function(arguments)`"
      ]
    },
    {
      "cell_type": "code",
      "execution_count": null,
      "metadata": {
        "deletable": false,
        "id": "8jfpPCjWFQm6",
        "nbgrader": {
          "cell_type": "code",
          "checksum": "8e185d064c54da6e23d648cbeb9aba7d",
          "grade": false,
          "grade_id": "cell-d391e7e149994d87",
          "locked": false,
          "schema_version": 3,
          "solution": true,
          "task": false
        },
        "colab": {
          "base_uri": "https://localhost:8080/"
        },
        "outputId": "81937099-75fa-423f-f494-386ae65f16af"
      },
      "outputs": [
        {
          "output_type": "stream",
          "name": "stdout",
          "text": [
            "-29.27857393997243 5.485138013952879e-183\n"
          ]
        }
      ],
      "source": [
        "# Task 12\n",
        "\n",
        "# YOUR CODE HERE\n",
        "disney_tval, disney_pval = stats.ttest_ind(male_finish, female_finish)\n",
        "print(disney_tval, disney_pval)"
      ]
    },
    {
      "cell_type": "code",
      "source": [
        "# #practice using scipy.stats t test from descriptive stats\n",
        "# stats.ttest_ind_from_stats(male_finish_mean, male_finish_std, len(male_finish), female_finish_mean, female_finish_std, len(female_finish))"
      ],
      "metadata": {
        "colab": {
          "base_uri": "https://localhost:8080/"
        },
        "id": "M2ELEhlzP0XE",
        "outputId": "c4041630-8c05-4f19-8edf-ab7f2f3b3690"
      },
      "execution_count": null,
      "outputs": [
        {
          "output_type": "execute_result",
          "data": {
            "text/plain": [
              "Ttest_indResult(statistic=-29.27857393997243, pvalue=5.485138013952879e-183)"
            ]
          },
          "metadata": {},
          "execution_count": 46
        }
      ]
    },
    {
      "cell_type": "markdown",
      "metadata": {
        "id": "JDESTg77FQm6"
      },
      "source": [
        "**Task 12 Test**"
      ]
    },
    {
      "cell_type": "code",
      "execution_count": null,
      "metadata": {
        "deletable": false,
        "editable": false,
        "id": "bgKW-YmNFQm6",
        "nbgrader": {
          "cell_type": "code",
          "checksum": "21c23c6671a4f7e515873d0d9df7076b",
          "grade": true,
          "grade_id": "cell-35a1e3947ac6388a",
          "locked": true,
          "points": 1,
          "schema_version": 3,
          "solution": false,
          "task": false
        }
      },
      "outputs": [],
      "source": [
        "# Task 12 - Test\n",
        "# Hidden tests - you will see the results when you submit to Canvas"
      ]
    },
    {
      "cell_type": "markdown",
      "metadata": {
        "id": "nusDTdXxOyUB"
      },
      "source": [
        "**Task 13**\n",
        "\n",
        "Select the correct conclusion at the 0.05 significance level from the list of choices below. Specify your answer in the next code block using `Answer = `.  For example, if the correct answer is choice B, you'll type `Answer = 'B'`.\n",
        "\n",
        "A: We reject the null hypothesis at the 0.05 significance level and conclude the mean finishing time for male and female marathon runners is different.\n",
        "\n",
        "B: We fail to reject the null hypothesis at the 0.05 significance level and conclude the mean finishing time for male and female marathon runners is different.\n",
        "\n",
        "C: We reject the null hypothesis at the 0.05 significance level and conclude the mean finishing time for male and female marathon runners is the same.\n",
        "\n",
        "D: We fail to reject the null hypothesis at the 0.05 significance level and conclude the mean finishing time for male and female marathon runners is the same.\n"
      ]
    },
    {
      "cell_type": "code",
      "execution_count": null,
      "metadata": {
        "deletable": false,
        "id": "d5n9MhFFOyUN",
        "nbgrader": {
          "cell_type": "code",
          "checksum": "270093768afa8c720e6c6467cc727dbb",
          "grade": false,
          "grade_id": "cell-66e19643f07fb7af",
          "locked": false,
          "schema_version": 3,
          "solution": true,
          "task": false
        }
      },
      "outputs": [],
      "source": [
        "# Task 13\n",
        "\n",
        "# YOUR CODE HERE\n",
        "Answer = 'A'\n"
      ]
    },
    {
      "cell_type": "markdown",
      "metadata": {
        "id": "DWAMbt2VOyUN"
      },
      "source": [
        "**Task 13 Test**"
      ]
    },
    {
      "cell_type": "code",
      "execution_count": null,
      "metadata": {
        "deletable": false,
        "editable": false,
        "nbgrader": {
          "cell_type": "code",
          "checksum": "5c526f3c8bbcd14d1b09c922195719af",
          "grade": true,
          "grade_id": "cell-d166fbea62c826e8",
          "locked": true,
          "points": 1,
          "schema_version": 3,
          "solution": false,
          "task": false
        },
        "id": "deA6M91n3n_M"
      },
      "outputs": [],
      "source": [
        "# Task 13 - Test\n",
        "# Hidden tests - you will see the results when you submit to Canvas"
      ]
    }
  ],
  "metadata": {
    "colab": {
      "collapsed_sections": [],
      "provenance": []
    },
    "kernelspec": {
      "display_name": "Python 3",
      "language": "python",
      "name": "python3"
    },
    "language_info": {
      "codemirror_mode": {
        "name": "ipython",
        "version": 3
      },
      "file_extension": ".py",
      "mimetype": "text/x-python",
      "name": "python",
      "nbconvert_exporter": "python",
      "pygments_lexer": "ipython3",
      "version": "3.8.8"
    }
  },
  "nbformat": 4,
  "nbformat_minor": 0
}